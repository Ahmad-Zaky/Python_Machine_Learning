{
 "cells": [
  {
   "cell_type": "code",
   "execution_count": 3,
   "metadata": {
    "collapsed": false
   },
   "outputs": [
   ],
   "source": [
    "def decision_1(x):\n",
    "    if x[0] == \"yes\":\n",
    "        if x[1] < 29.5:\n",
    "            decision = \"less\"\n",
    "        else:\n",
    "            decision = \"more\"\n",
    "    else:\n",
    "        if x[2] == \"good\":\n",
    "            decision = \"less\"\n",
    "        else:\n",
    "            decision = \"more\"\n",
    "    return decision\n",
    "\n",
    "\n",
    "\n",
    "LESS = 'less'\n",
    "MORE = 'more'\n",
    "\n",
    "def risk_based_on_age(age):\n",
    "    return LESS if age < 29.5 else MORE\n",
    "\n",
    "def risk_based_on_diet(diet):\n",
    "    return LESS if diet == \"good\" else MORE\n",
    "\n",
    "def risk_based_on_being_smoker(smoker, age, diet):\n",
    "    return risk_based_on_age(age) if smoker == 'yes' else risk_based_on_diet(diet)\n",
    "\n",
    "def decision_2(x):\n",
    "    smoker, age, diet = x\n",
    "    return risk_based_on_being_smoker(smoker, age, diet)\n",
    "\n",
    "\n",
    "    "
   ]
  },
  {
   "cell_type": "code",
   "execution_count": 4,
   "metadata": {
    "collapsed": false
   },
   "outputs": [
   ],
   "source": [
    "x = ('yes', 31, 'good')\n",
    "assert decision_2(x) == 'more'"
   ]
  },
  {
   "cell_type": "code",
   "execution_count": 5,
   "metadata": {
    "collapsed": false
   },
   "outputs": [
    {
     "data": {
      "text/plain": [
       "'more'"
      ]
     },
     "execution_count": 5,
     "metadata": {
     },
     "output_type": "execute_result"
    }
   ],
   "source": [
    "decision_2(x)"
   ]
  },
  {
   "cell_type": "code",
   "execution_count": 6,
   "metadata": {
    "collapsed": false
   },
   "outputs": [
   ],
   "source": [
    "def get_test_data_from_line(line_of_data):\n",
    "    smoke, age, diet = line_of_data\n",
    "    return smoke, int(age), diet  \n",
    "\n",
    "def mapping_lines_from_file(fn, file_name):\n",
    "    with open(file_name, 'r') as health_test_file:\n",
    "        line_of_data = list()\n",
    "        line_of_data = (line.strip().split(',') for line in health_test_file)\n",
    "    \n",
    "        return list(map(fn, line_of_data))\n",
    "\n",
    "def gettest():\n",
    "    file_name = \"health-test.txt\"\n",
    "    \n",
    "    return mapping_lines_from_file(get_test_data_from_line, file_name)\n",
    "    \n",
    "    "
   ]
  },
  {
   "cell_type": "code",
   "execution_count": 7,
   "metadata": {
    "collapsed": false
   },
   "outputs": [
    {
     "data": {
      "text/plain": [
       "[('yes', 21, 'poor'),\n",
       " ('no', 50, 'good'),\n",
       " ('no', 23, 'good'),\n",
       " ('yes', 45, 'poor'),\n",
       " ('yes', 51, 'good'),\n",
       " ('no', 60, 'good'),\n",
       " ('no', 15, 'poor'),\n",
       " ('no', 18, 'good')]"
      ]
     },
     "execution_count": 7,
     "metadata": {
     },
     "output_type": "execute_result"
    }
   ],
   "source": [
    "gettest()"
   ]
  },
  {
   "cell_type": "code",
   "execution_count": 8,
   "metadata": {
    "collapsed": false
   },
   "outputs": [
   ],
   "source": [
    "def evaluate_testset_1():\n",
    "    evaluation = list()\n",
    "    count = 0\n",
    "    evaluation = [decision_1(person) for person in gettest()]\n",
    "    \n",
    "    for ratio_more in evaluation:\n",
    "        if ratio_more == 'more':\n",
    "            count+=1\n",
    "    return count/len(evaluation)\n",
    "  \n",
    "    \n",
    "def evaluate_testset_2():\n",
    "    dataset_test = gettest()\n",
    "    decisions = map(decision_1, dataset_test)\n",
    "    count_MORE = sum((result == MORE for result in decisions))\n",
    "    ratio_MORE = count_MORE / len(dataset_test)\n",
    "    return ratio_MORE"
   ]
  },
  {
   "cell_type": "code",
   "execution_count": 9,
   "metadata": {
    "collapsed": false
   },
   "outputs": [
    {
     "data": {
      "text/plain": [
       "0.375"
      ]
     },
     "execution_count": 9,
     "metadata": {
     },
     "output_type": "execute_result"
    }
   ],
   "source": [
    "evaluate_testset_1()"
   ]
  },
  {
   "cell_type": "code",
   "execution_count": 10,
   "metadata": {
    "collapsed": false
   },
   "outputs": [
    {
     "data": {
      "text/plain": [
       "0.375"
      ]
     },
     "execution_count": 10,
     "metadata": {
     },
     "output_type": "execute_result"
    }
   ],
   "source": [
    "evaluate_testset_2()"
   ]
  },
  {
   "cell_type": "code",
   "execution_count": 11,
   "metadata": {
    "collapsed": false
   },
   "outputs": [
   ],
   "source": [
    "def get_train_data_from_line(train_line):\n",
    "    features, label = get_test_data_from_line(train_line[:-1]), train_line[-1]\n",
    "    return tuple(features), label\n",
    "\n",
    "def gettrain():\n",
    "    file_name = 'health-train.txt'\n",
    "    return mapping_lines_from_file(get_train_data_from_line, file_name)\n",
    "    "
   ]
  },
  {
   "cell_type": "code",
   "execution_count": 12,
   "metadata": {
    "collapsed": false
   },
   "outputs": [
    {
     "data": {
      "text/plain": [
       "[(('yes', 54, 'good'), 'less'),\n",
       " (('no', 55, 'good'), 'less'),\n",
       " (('no', 26, 'good'), 'less'),\n",
       " (('yes', 40, 'good'), 'more'),\n",
       " (('yes', 25, 'poor'), 'less'),\n",
       " (('no', 13, 'poor'), 'more'),\n",
       " (('no', 15, 'good'), 'less'),\n",
       " (('no', 50, 'poor'), 'more'),\n",
       " (('yes', 33, 'good'), 'more'),\n",
       " (('no', 35, 'good'), 'less'),\n",
       " (('no', 41, 'good'), 'less'),\n",
       " (('yes', 30, 'poor'), 'more'),\n",
       " (('no', 39, 'poor'), 'more'),\n",
       " (('no', 20, 'good'), 'less'),\n",
       " (('yes', 18, 'poor'), 'less'),\n",
       " (('yes', 55, 'good'), 'more')]"
      ]
     },
     "execution_count": 12,
     "metadata": {
     },
     "output_type": "execute_result"
    }
   ],
   "source": [
    "gettrain()"
   ]
  },
  {
   "cell_type": "code",
   "execution_count": 13,
   "metadata": {
    "collapsed": false
   },
   "outputs": [
   ],
   "source": [
    "def data_distances_discrete(a, b):\n",
    "    return (a[0] != b[0]) + ((a[1] - b[1]) / 50) ** 2 + (a[2] != b[2]) \n",
    "  \n",
    "def neighbor(x, trainset):\n",
    "    features = [feature[0] for feature in trainset]\n",
    "    \n",
    "    distances = [data_distances_discrete(x, y) for y in features]\n",
    "    min_distance_index = distances.index(min(distances))\n",
    "    neighbor = trainset[min_distance_index][1]\n",
    "    \n",
    "    return neighbor\n",
    "\n"
   ]
  },
  {
   "cell_type": "code",
   "execution_count": 14,
   "metadata": {
    "collapsed": false
   },
   "outputs": [
    {
     "data": {
      "text/plain": [
       "'more'"
      ]
     },
     "execution_count": 14,
     "metadata": {
     },
     "output_type": "execute_result"
    }
   ],
   "source": [
    "x = ('yes', 31, 'good')\n",
    "neighbor(x, gettrain())"
   ]
  },
  {
   "cell_type": "code",
   "execution_count": 15,
   "metadata": {
    "collapsed": false
   },
   "outputs": [
   ],
   "source": [
    "# comparing between decision tree and Nearest Neighbor Classifier\n",
    "\n",
    "def nnc_map_fn(train_set):\n",
    "    return lambda x: neighbor(x, train_set)\n",
    "\n",
    "def compare():\n",
    "    \n",
    "    test_set = gettest()\n",
    "    train_set = gettrain()\n",
    "    \n",
    "    dt_labels = map(decision_2, test_set)\n",
    "    nnc_labels = map(nnc_map_fn(train_set), test_set)\n",
    "    dt_nnc_labels = zip(dt_labels, nnc_labels)\n",
    "    \n",
    "    Xdisagree = [test_set[dt_nnc_index] for dt_nnc_index, dt_nnc in enumerate(dt_nnc_labels) if dt_nnc[0] != dt_nnc[1]]\n",
    "    probability = len(Xdisagree)/len(test_set)\n",
    "    \n",
    "    return Xdisagree, probability"
   ]
  },
  {
   "cell_type": "code",
   "execution_count": 16,
   "metadata": {
    "collapsed": false
   },
   "outputs": [
    {
     "data": {
      "text/plain": [
       "([('yes', 51, 'good')], 0.125)"
      ]
     },
     "execution_count": 16,
     "metadata": {
     },
     "output_type": "execute_result"
    }
   ],
   "source": [
    "compare()"
   ]
  },
  {
   "cell_type": "code",
   "execution_count": 17,
   "metadata": {
    "collapsed": false
   },
   "outputs": [
   ],
   "source": [
    "def reduce(fn, iterable):\n",
    "    \n",
    "    #change the type to iter\n",
    "    iterable = iter(iterable)\n",
    "    \n",
    "    #reduced get the first item in the List\n",
    "    reduced = next(iterable)\n",
    "    for element in iterable:\n",
    "        #here element has the second item in iterable list\n",
    "        reduced = fn(reduced, element)\n",
    "    return reduced\n",
    "        \n",
    "    \n",
    "    \n",
    "def data_distances_continuous(a, b):\n",
    "    return (a[0] - b[0]) ** 2 + ((a[1] - b[1]) / 50.0) ** 2 + (a[2] - b[2]) ** 2\n",
    "    \n",
    "class NearestMeanClassifier:\n",
    "    \n",
    "    def _collect_classes(self, dataset):\n",
    "        class_collection = {}\n",
    "        \n",
    "        for item, label in dataset:\n",
    "            # here I can use try and except instead of if else command\n",
    "            if label in class_collection:\n",
    "                class_collection[label].append(item)\n",
    "            else:\n",
    "                class_collection[label] = [item]\n",
    "            \n",
    "        return class_collection\n",
    "    \n",
    "    def _map_collection_mean(self, class_collection):\n",
    "        for label, items in class_collection.items():\n",
    "            class_collection[label] = self._calc_items_mean(items)\n",
    "        return class_collection\n",
    "    \n",
    "    def _calc_items_mean(self, items):\n",
    "        total_class = reduce(self._sum_classes_vectors, items)\n",
    "        return tuple(map(lambda x: x / len(items), total_class))\n",
    "        \n",
    "    def _sum_classes_vectors(self, a, b):\n",
    "        return map(sum, zip(a,b))\n",
    "        \n",
    "    def train(self, dataset):\n",
    "        class_collection = self._collect_classes(dataset)\n",
    "        \n",
    "        # the means var. I can replace it simply with return \n",
    "        # and getting the means into a var. after creating object from this class\n",
    "        \n",
    "        self.means = self._map_collection_mean(class_collection)\n",
    "        \n",
    "    def predict(self, x):\n",
    "        nearest_label = None\n",
    "        smallest_distance = float('inf')\n",
    "        \n",
    "        for label, mean in self.means.items():\n",
    "            current_distance = data_distances_continuous(x, mean)\n",
    "            if current_distance < smallest_distance:\n",
    "                smallest_distance = current_distance\n",
    "                nearest_label = label\n",
    "        \n",
    "        return nearest_label"
   ]
  },
  {
   "cell_type": "code",
   "execution_count": 18,
   "metadata": {
    "collapsed": false
   },
   "outputs": [
    {
     "data": {
      "text/plain": [
       "{'less': (0.3333333333333333, 32.111111111111114, 0.2222222222222222),\n",
       " 'more': (0.5714285714285714, 37.142857142857146, 0.5714285714285714)}"
      ]
     },
     "execution_count": 18,
     "metadata": {
     },
     "output_type": "execute_result"
    }
   ],
   "source": [
    "value_mapping = { 'yes': 1.0, 'no': 0.0, 'good': 0.0, 'poor': 1.0}\n",
    "\n",
    "def discrete_to_continuous(value):\n",
    "    \n",
    "    # the second arg is for checking if mapping or the converting to digits is available, else return original \n",
    "    # we do this here because of the age because it is already a number \n",
    "    # so it should not be converted\n",
    "    \n",
    "    return value_mapping.get(value, value)\n",
    "\n",
    "def convert(dataset):\n",
    "    \n",
    "    # here we get the label and the item from the dataset and mapping the values of each item \n",
    "    # to function discrete_to_continuous to convert it to digits instead of strings\n",
    "    \n",
    "    return [(tuple(map(discrete_to_continuous, vector)), label) for vector, label in dataset]\n",
    "\n",
    "def build_and_train():\n",
    "    classifier = NearestMeanClassifier()\n",
    "    training_data = convert(gettrain())\n",
    "    classifier.train(training_data)\n",
    "    \n",
    "    return classifier.means\n",
    "build_and_train()"
   ]
  },
  {
   "cell_type": "code",
   "execution_count": 28,
   "metadata": {
    "collapsed": false
   },
   "outputs": [
    {
     "data": {
      "text/plain": [
       "[(('no', 50, 'good'), 'less'),\n",
       " (('no', 23, 'good'), 'less'),\n",
       " (('yes', 45, 'poor'), 'more'),\n",
       " (('no', 60, 'good'), 'less'),\n",
       " (('no', 15, 'poor'), 'more'),\n",
       " (('no', 18, 'good'), 'less')]"
      ]
     },
     "execution_count": 28,
     "metadata": {
     },
     "output_type": "execute_result"
    }
   ],
   "source": [
    "def predict_test():\n",
    "    \n",
    "    test_data = gettest()\n",
    "    training_data = gettrain()\n",
    "    \n",
    "    nnc_predict = nnc_map_fn(training_data)\n",
    "    nmc = NearestMeanClassifier()\n",
    "    nmc.train(convert(training_data))\n",
    "    \n",
    "    agreed_samples = []\n",
    "    for item in test_data:\n",
    "        \n",
    "        dt_result = decision_2(item)\n",
    "        nnc_result = nnc_predict(item)\n",
    "        \n",
    "        item_converted = tuple(map(discrete_to_continuous, item))\n",
    "        nmc_result = nmc.predict(item_converted)\n",
    "        \n",
    "        if dt_result == nnc_result == nmc_result:\n",
    "            agreed_samples.append( (item, dt_result) )\n",
    "    return agreed_samples\n",
    "\n",
    "predict_test()"
   ]
  }
 ],
 "metadata": {
  "kernelspec": {
   "display_name": "Python 3 (Ubuntu Linux)",
   "language": "python",
   "metadata": {
    "cocalc": {
     "description": "Python 3 programming language",
     "priority": 100,
     "url": "https://www.python.org/"
    }
   },
   "name": "python3"
  },
  "language_info": {
   "codemirror_mode": {
    "name": "ipython",
    "version": 3
   },
   "file_extension": ".py",
   "mimetype": "text/x-python",
   "name": "python",
   "nbconvert_exporter": "python",
   "pygments_lexer": "ipython3",
   "version": "3.6.7"
  }
 },
 "nbformat": 4,
 "nbformat_minor": 0
}