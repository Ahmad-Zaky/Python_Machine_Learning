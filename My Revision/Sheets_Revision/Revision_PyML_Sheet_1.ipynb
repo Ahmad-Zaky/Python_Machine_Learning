{
 "cells": [
  {
   "cell_type": "markdown",
   "metadata": {},
   "source": [
    "# Exercise Sheet 1: Python Basics\n",
    "\n",
    "### Classifying a single instance (15 P)\n"
   ]
  },
  {
   "cell_type": "code",
   "execution_count": 1,
   "metadata": {},
   "outputs": [],
   "source": [
    "# method Nr. 1\n",
    "\n",
    "def decision_1(x):\n",
    "    if x[0] == \"yes\":\n",
    "        if x[1] < 29.5:\n",
    "            decision = \"less\"\n",
    "        else:\n",
    "            decision = \"more\"\n",
    "    else:\n",
    "        if x[2] == \"good\":\n",
    "            decision = \"less\"\n",
    "        else:\n",
    "            decision = \"more\"\n",
    "    return decision\n",
    "#__________________________________\n",
    "# method Nr.2\n",
    "\n",
    "LESS = \"less\"\n",
    "MORE = \"more\"\n",
    "\n",
    "def risk_based_on_diet(diet):\n",
    "    return LESS if diet == \"good\" else MORE\n",
    "\n",
    "def risk_based_on_age(age):\n",
    "    return LESS if age < 29.5 else MORE\n",
    "\n",
    "def risk_based_on_being_smoker(smoker, age, diet):\n",
    "    return risk_based_on_age(age) if smoker == \"yes\" else risk_based_on_diet(diet)\n",
    "\n",
    "def decision_2(x):\n",
    "    smoker, age, diet = x\n",
    "    return risk_based_on_being_smoker(smoker, age, diet)"
   ]
  },
  {
   "cell_type": "code",
   "execution_count": 2,
   "metadata": {},
   "outputs": [],
   "source": [
    "# test:\n",
    "x = ('yes', 31, 'good')\n",
    "assert decision_1(x) == 'more'\n",
    "assert decision_2(x) == 'more'"
   ]
  },
  {
   "cell_type": "code",
   "execution_count": 3,
   "metadata": {},
   "outputs": [
    {
     "data": {
      "text/plain": [
       "('more', 'more')"
      ]
     },
     "execution_count": 3,
     "metadata": {},
     "output_type": "execute_result"
    }
   ],
   "source": [
    "decision_1(x), decision_2(x)"
   ]
  },
  {
   "cell_type": "markdown",
   "metadata": {},
   "source": [
    "## Reading a dataset from a text file (10 P)\n",
    "\n",
    "\n",
    "How does raw_input().strip().split() in Python work in this code?\n",
    "https://stackoverflow.com/questions/40598078/how-does-raw-input-strip-split-in-python-work-in-this-code\n",
    "\n",
    "\n",
    "What is the meaning of strip (\\n) and split in Python?\n",
    "https://www.quora.com/What-is-the-meaning-of-strip-n-and-split-in-Python"
   ]
  },
  {
   "cell_type": "code",
   "execution_count": 4,
   "metadata": {},
   "outputs": [],
   "source": [
    "# method Nr. 1\n",
    "\n",
    "def gettest_1():\n",
    "    \n",
    "    file_name = \"c:\\\\Users\\\\Ahmed Zaky\\\\Desktop\\\\PyML\\\\Lecture 1_ 15 Oktober - 21 Oktober\\\\Exercise Sheet 1\\\\health-test.txt\"\n",
    "    \n",
    "    with open(file_name, 'r') as health_test_file:\n",
    "        \n",
    "        data = list()\n",
    "        data = (line.strip().split(',') for line in health_test_file)\n",
    "        data = [(smoke, int(age), diet) for smoke, age, diet in data]\n",
    "        \n",
    "        return data\n",
    "\n",
    "#--------------------------------------\n",
    "# method Nr. 2\n",
    "\n",
    "def parse_test_line(test_line_split):\n",
    "    smoker, age, diet = test_line_split\n",
    "    return(smoker, int(age), diet)\n",
    "\n",
    "def mapped_lines_from_file(fn, file_name):\n",
    "    with open(file_name, 'r') as health_test_file:\n",
    "        line_stripped = (line.strip() for line in health_test_file)\n",
    "        line_split = (line.split(',') for line in line_stripped)\n",
    "        return list(map(fn, line_split)) # return must be under with because the file must be open within the operation\n",
    "def gettest_2():\n",
    "    file_name = \"c:\\\\Users\\\\Ahmed Zaky\\\\Desktop\\\\PyML\\\\Lecture 1_ 15 Oktober - 21 Oktober\\\\Exercise Sheet 1\\\\health-test.txt\"\n",
    "    return mapped_lines_from_file(parse_test_line, file_name)\n"
   ]
  },
  {
   "cell_type": "code",
   "execution_count": 5,
   "metadata": {},
   "outputs": [
    {
     "data": {
      "text/plain": [
       "[('yes', 21, 'poor'),\n",
       " ('no', 50, 'good'),\n",
       " ('no', 23, 'good'),\n",
       " ('yes', 45, 'poor'),\n",
       " ('yes', 51, 'good'),\n",
       " ('no', 60, 'good'),\n",
       " ('no', 15, 'poor'),\n",
       " ('no', 18, 'good')]"
      ]
     },
     "execution_count": 5,
     "metadata": {},
     "output_type": "execute_result"
    }
   ],
   "source": [
    "gettest_1()"
   ]
  },
  {
   "cell_type": "code",
   "execution_count": 6,
   "metadata": {
    "scrolled": true
   },
   "outputs": [
    {
     "data": {
      "text/plain": [
       "[('yes', 21, 'poor'),\n",
       " ('no', 50, 'good'),\n",
       " ('no', 23, 'good'),\n",
       " ('yes', 45, 'poor'),\n",
       " ('yes', 51, 'good'),\n",
       " ('no', 60, 'good'),\n",
       " ('no', 15, 'poor'),\n",
       " ('no', 18, 'good')]"
      ]
     },
     "execution_count": 6,
     "metadata": {},
     "output_type": "execute_result"
    }
   ],
   "source": [
    "gettest_2()"
   ]
  },
  {
   "cell_type": "markdown",
   "metadata": {},
   "source": [
    "## Applying the decision tree to the dataset (15 P)"
   ]
  },
  {
   "cell_type": "code",
   "execution_count": 7,
   "metadata": {},
   "outputs": [],
   "source": [
    "# method Nr. 1\n",
    "def evaluate_testset_1():\n",
    "    evaluation = list()\n",
    "    count = 0\n",
    "    evaluation = [decision_1(person) for person in gettest_1()]\n",
    "    \n",
    "    for ratio_more in evaluation:\n",
    "        if ratio_more == 'more':\n",
    "            count+=1\n",
    "    ratio = count/len(evaluation)\n",
    "    return ratio\n",
    "\n",
    "    #or\n",
    "    #return count/len(evaluation)\n",
    "    \n",
    "# method Nr. 2\n",
    "def evaluate_testset_2():\n",
    "    dataset_test = gettest_1()\n",
    "    decisions = map(decision_1, dataset_test)\n",
    "    count_MORE = sum((result == MORE for result in decisions))\n",
    "    ratio_MORE = count_MORE / len(dataset_test)\n",
    "    return ratio_MORE"
   ]
  },
  {
   "cell_type": "code",
   "execution_count": 8,
   "metadata": {},
   "outputs": [
    {
     "data": {
      "text/plain": [
       "0.375"
      ]
     },
     "execution_count": 8,
     "metadata": {},
     "output_type": "execute_result"
    }
   ],
   "source": [
    "evaluate_testset_1()"
   ]
  },
  {
   "cell_type": "code",
   "execution_count": 9,
   "metadata": {},
   "outputs": [
    {
     "data": {
      "text/plain": [
       "0.375"
      ]
     },
     "execution_count": 9,
     "metadata": {},
     "output_type": "execute_result"
    }
   ],
   "source": [
    "evaluate_testset_2()"
   ]
  },
  {
   "cell_type": "markdown",
   "metadata": {},
   "source": [
    "## Learning from examples (10 P)"
   ]
  },
  {
   "cell_type": "code",
   "execution_count": 10,
   "metadata": {},
   "outputs": [],
   "source": [
    "def gettrain_1():\n",
    "    file_name = 'c:\\\\Users\\\\Ahmed Zaky\\\\Desktop\\\\PyML\\\\Lecture 1_ 15 Oktober - 21 Oktober\\\\Exercise Sheet 1\\\\health-train.txt'\n",
    "    with open(file_name,'r') as health_train:\n",
    "        \n",
    "        data_set = list()\n",
    "        datum = list()\n",
    "        label = list()\n",
    "        data_set = (line.strip().split(',') for line in health_train)\n",
    "        datum = [((smoke, int(age), diet), label) for smoke, age, diet, label in data_set]\n",
    "        # data = list()\n",
    "        #for smoke, age, diet, lable in data_set:\n",
    "        #    data.extend([(smoke, int(age), diet)])\n",
    "        #    data.extend([(lable,)])\n",
    "        return datum\n",
    "\n",
    "def parse_train_line(train_line_split):\n",
    "    features = parse_test_line(train_line_split[:-1])\n",
    "    label = train_line_split[-1]\n",
    "    return features, label\n",
    "\n",
    "def gettrain_2():\n",
    "    file_name = 'c:\\\\Users\\\\Ahmed Zaky\\\\Desktop\\\\PyML\\\\Lecture 1_ 15 Oktober - 21 Oktober\\\\Exercise Sheet 1\\\\health-train.txt'\n",
    "    return mapped_lines_from_file(parse_train_line, file_name) \n"
   ]
  },
  {
   "cell_type": "code",
   "execution_count": 11,
   "metadata": {},
   "outputs": [
    {
     "data": {
      "text/plain": [
       "[(('yes', 54, 'good'), 'less'),\n",
       " (('no', 55, 'good'), 'less'),\n",
       " (('no', 26, 'good'), 'less'),\n",
       " (('yes', 40, 'good'), 'more'),\n",
       " (('yes', 25, 'poor'), 'less'),\n",
       " (('no', 13, 'poor'), 'more'),\n",
       " (('no', 15, 'good'), 'less'),\n",
       " (('no', 50, 'poor'), 'more'),\n",
       " (('yes', 33, 'good'), 'more'),\n",
       " (('no', 35, 'good'), 'less'),\n",
       " (('no', 41, 'good'), 'less'),\n",
       " (('yes', 30, 'poor'), 'more'),\n",
       " (('no', 39, 'poor'), 'more'),\n",
       " (('no', 20, 'good'), 'less'),\n",
       " (('yes', 18, 'poor'), 'less'),\n",
       " (('yes', 55, 'good'), 'more')]"
      ]
     },
     "execution_count": 11,
     "metadata": {},
     "output_type": "execute_result"
    }
   ],
   "source": [
    "gettrain_1()"
   ]
  },
  {
   "cell_type": "code",
   "execution_count": 12,
   "metadata": {},
   "outputs": [
    {
     "data": {
      "text/plain": [
       "[(('yes', 54, 'good'), 'less'),\n",
       " (('no', 55, 'good'), 'less'),\n",
       " (('no', 26, 'good'), 'less'),\n",
       " (('yes', 40, 'good'), 'more'),\n",
       " (('yes', 25, 'poor'), 'less'),\n",
       " (('no', 13, 'poor'), 'more'),\n",
       " (('no', 15, 'good'), 'less'),\n",
       " (('no', 50, 'poor'), 'more'),\n",
       " (('yes', 33, 'good'), 'more'),\n",
       " (('no', 35, 'good'), 'less'),\n",
       " (('no', 41, 'good'), 'less'),\n",
       " (('yes', 30, 'poor'), 'more'),\n",
       " (('no', 39, 'poor'), 'more'),\n",
       " (('no', 20, 'good'), 'less'),\n",
       " (('yes', 18, 'poor'), 'less'),\n",
       " (('yes', 55, 'good'), 'more')]"
      ]
     },
     "execution_count": 12,
     "metadata": {},
     "output_type": "execute_result"
    }
   ],
   "source": [
    "gettrain_2()"
   ]
  },
  {
   "cell_type": "markdown",
   "metadata": {},
   "source": [
    "## Nearest neighbor classifier (25 P)\n",
    "\n",
    "GET MULTIPLE ELEMENTS FROM A LIST (PYTHON RECIPE)\n",
    "http://code.activestate.com/recipes/577953-get-multiple-elements-from-a-list/\n",
    "\n",
    "\n",
    "Access multiple elements of list knowing their index\n",
    "https://code.i-harness.com/en/q/116cfa0\n",
    "\n",
    "\n",
    "How to get multiple elements of a list\n",
    "https://stackoverflow.com/questions/47812858/how-to-get-multiple-elements-of-a-list\n",
    "\n",
    "\n",
    "Python Iterators\n",
    "https://www.programiz.com/python-programming/iterator\n",
    "\n",
    "\n",
    "\n"
   ]
  },
  {
   "cell_type": "markdown",
   "metadata": {},
   "source": [
    "`d(a, b) = (a[0] != b[0]) + ((a[1] - b[1]) / 50.0) ** 2 + (a[2] != b[2])`"
   ]
  },
  {
   "cell_type": "code",
   "execution_count": 13,
   "metadata": {},
   "outputs": [],
   "source": [
    "# method Nr. 1\n",
    "# discrete distance\n",
    "def data_distances(d1, d2):\n",
    "    \n",
    "    return (d1[0] != d2[0]) + ((d1[1] - d2[1]) / 50) ** 2 + (d1[2] != d2[2])\n",
    "\n",
    "def  neighbor_1(x, trainset):\n",
    "    \n",
    "    features = [feature[0] for feature in trainset]\n",
    "    labels = [label[1] for label in trainset]\n",
    "    \n",
    "    distances = [data_distances(x, feature) for feature in features ] \n",
    "    distance_index = distances.index(min(list(distances)))\n",
    "    \n",
    "    return labels[distance_index]\n",
    "\n",
    "#--------------------------------------------------\n",
    "# method Nr. 2\n",
    "def d_discrete(a, b):\n",
    "    return (a[0] != b[0]) + ((a[1] - b[1]) / 50.0) ** 2 + (a[2] != b[2])\n",
    "\n",
    "def neighbor_2(x, trainset):\n",
    "    values = (row[0] for row in trainset)\n",
    "    \n",
    "    distances = list(map(lambda y: d_discrete(x, y), values))\n",
    "    \n",
    "    argmin_distance = distances.index(min(distances))\n",
    "    neighbor_label = trainset[argmin_distance][1]\n",
    "    return neighbor_label"
   ]
  },
  {
   "cell_type": "code",
   "execution_count": 14,
   "metadata": {},
   "outputs": [
    {
     "data": {
      "text/plain": [
       "'more'"
      ]
     },
     "execution_count": 14,
     "metadata": {},
     "output_type": "execute_result"
    }
   ],
   "source": [
    "x = ('yes', 31, 'good')\n",
    "neighbor_1(x, gettrain_1())"
   ]
  },
  {
   "cell_type": "code",
   "execution_count": 15,
   "metadata": {},
   "outputs": [
    {
     "data": {
      "text/plain": [
       "'more'"
      ]
     },
     "execution_count": 15,
     "metadata": {},
     "output_type": "execute_result"
    }
   ],
   "source": [
    "neighbor_2(x, gettrain_2())"
   ]
  },
  {
   "cell_type": "markdown",
   "metadata": {},
   "source": [
    "* Apply both the decision tree and nearest neighbor classifiers on the test set, and return the list of data point(s) for which the two classifiers disagree, and with which probability it happens.\n",
    "\n",
    "* A data point should look like above, e.g. `('yes', 31, 'good')`\n",
    "\n",
    "\n",
    "Enumerate() in Python\n",
    "https://www.geeksforgeeks.org/enumerate-in-python/\n",
    "\n",
    "bit_length()\n",
    "Return the number of bits necessary to represent an integer in binary, excluding the sign and leading zeros\n",
    "see more: \n",
    "https://docs.python.org/3/library/stdtypes.html\n",
    "\n",
    "\n",
    "\n",
    "Return function with function\n",
    "https://stackoverflow.com/questions/28325662/return-function-with-function\n",
    "\n",
    "\n",
    "\n",
    "Return a variable vs. a function call\n",
    "https://stackoverflow.com/questions/41631822/return-a-variable-vs-return-a-function-call"
   ]
  },
  {
   "cell_type": "code",
   "execution_count": 16,
   "metadata": {},
   "outputs": [],
   "source": [
    "# method Nr. 1\n",
    "def compare_1():\n",
    "    test_set = gettest_1()\n",
    "    \n",
    "    dt_labels = [decision_1(x) for x in test_set]\n",
    "    nnk_labels = [neighbor_1(x, gettrain_1()) for x in test_set]\n",
    "    dt_nnk_labels = zip(dt_labels, nnk_labels)\n",
    "    \n",
    "    xdisagree = [test_set[dt_nnk_index] for dt_nnk_index, dt_nnk in enumerate(dt_nnk_labels) if dt_nnk[0] != dt_nnk[1]]\n",
    "    probablity = len(xdisagree) / len(test_set)\n",
    "    \n",
    "    return xdisagree, probablity\n",
    "#-------------------------------------------------\n",
    "# method Nr. 2\n",
    "# we simply returning a function here\n",
    "def nn_map_fn(trainset):\n",
    "    return lambda x: neighbor_2(x, trainset)\n",
    "\n",
    "def compare_2():\n",
    "    testset = gettest_2()\n",
    "    trainset = gettrain_2()\n",
    "    \n",
    "    dt_results = map(decision_2, testset) # decision tree\n",
    "    nn_results = map(nn_map_fn(trainset), testset) # nearest neighbors \n",
    "    dt_nn_results = zip(dt_results, nn_results)\n",
    "    \n",
    "    Xdisagree = [testset[idx] for idx, (dt, nn) in enumerate(dt_nn_results) if dt != nn]\n",
    "    probablity = len(Xdisagree) / len(testset)\n",
    "    \n",
    "    return Xdisagree, probablity\n",
    "    "
   ]
  },
  {
   "cell_type": "code",
   "execution_count": 17,
   "metadata": {},
   "outputs": [
    {
     "data": {
      "text/plain": [
       "([('yes', 51, 'good')], 0.125)"
      ]
     },
     "execution_count": 17,
     "metadata": {},
     "output_type": "execute_result"
    }
   ],
   "source": [
    "compare_1()"
   ]
  },
  {
   "cell_type": "code",
   "execution_count": 18,
   "metadata": {},
   "outputs": [
    {
     "data": {
      "text/plain": [
       "([('yes', 51, 'good')], 0.125)"
      ]
     },
     "execution_count": 18,
     "metadata": {},
     "output_type": "execute_result"
    }
   ],
   "source": [
    "compare_2()"
   ]
  },
  {
   "cell_type": "code",
   "execution_count": 19,
   "metadata": {},
   "outputs": [
    {
     "name": "stdout",
     "output_type": "stream",
     "text": [
      "[('yes', 51, 'good')]\n"
     ]
    }
   ],
   "source": [
    "Xdisagree, probability = compare_1()\n",
    "assert type(Xdisagree) == list\n",
    "print(Xdisagree)\n",
    "assert probability >= 0.0 and probability <= 1.0"
   ]
  },
  {
   "cell_type": "markdown",
   "metadata": {},
   "source": [
    "One problem of simple nearest neighbors is that one needs to compare the point to predict all data points in the training set. This can be slow for dataests of thousands of points or more. Aternatively, some classifiers train a model first, and then use it to classify the data.\n",
    "\n",
    "## Nearest mean classifier (25 P)\n",
    "\n",
    "We consider one such trainable model,which operates in two steps:\n",
    "(1) Compute the average point for each class.\n",
    "(2) classify new points to be of the class whose average point is nearest to the point to predict.\n",
    "\n",
    "For this classifier, we convert the attributes smoker and diet to real values (for smoker: yes=1.0 and no=0.0, and for diet: good=0.0 and poor=1.0), and use the modified distance function:\n",
    "`d(a,b) = (a[0] - b[0]) ** 2 + ((a[1] - b[1]) / 50.0) ** 2 + (a[2] - b[2]) ** 2`\n",
    "\n",
    "We adopt an object-oriented approach for building this classifier.\n",
    "\n",
    "* implement the methods `train` and `predict` of the class `NearestMeanClassifier`\n",
    "\n",
    "\n",
    "\n",
    "How to pass Python function as a function argument?\n",
    "https://www.tutorialspoint.com/How-to-pass-Python-function-as-a-function-argument\n",
    "\n",
    "\n",
    "How do I pass a method as a parameter in Python\n",
    "https://stackoverflow.com/questions/706721/how-do-i-pass-a-method-as-a-parameter-in-python\n",
    "\n",
    "* Hint: Yes it is, just use the name of the method, as you have written. Methods/functions are objects in Python, just like anything else, and you can pass them around the way you do variables. In fact, you can think about a method (or function) as a variable whose value is the actual callable code object. FYI, there is no `call` method - I think it's called `__call__`, but you don't have to invoke it explicitly:\n",
    "\n",
    "\n",
    "\n",
    "Python String format()\n",
    "https://www.programiz.com/python-programming/methods/string/format\n",
    "\n",
    "\n",
    "\n",
    "Formatted Output:\n",
    "\n",
    "Many Ways for a Nicer Output\n",
    "https://www.python-course.eu/python3_formatted_output.php\n",
    "\n",
    "\n",
    "\n",
    "Python: Formatting text to specific column\n",
    "https://stackoverflow.com/questions/7295639/python-formatting-text-to-specific-column\n",
    "\n",
    "### This is only for reduced function to understand everything is going on there\n",
    "\n",
    "Python sum()\n",
    "* The sum() function adds the items of an iterable and returns the sum. See more: \n",
    "https://www.programiz.com/python-programming/methods/built-in/sum\n",
    "\n",
    "Python Iterators\n",
    "* Iterators are objects that can be iterated upon. In this tutorial, you will learn how iterator works and how you can build your own iterator using __iter__ and __next__ methods. See more: \n",
    "https://www.programiz.com/python-programming/iterator\n",
    "\n",
    "The script code:\n",
    "\n",
    "```python\n",
    "# define a list\n",
    "my_list = [4, 7, 0, 3]\n",
    "\n",
    "#### get an iterator using iter()\n",
    "my_iter = iter(my_list)\n",
    "# if i do next() it will output the first element\n",
    "# if i then print the my_iter it will start from the second item in the iter\n",
    "# if i print my_iter before the next() function i will start from the first element\n",
    "## iterate through it using next() \n",
    "for i in my_iter:\n",
    "    print(i)\n",
    "#prints 4\n",
    "#print(next(my_iter))\n",
    "\n",
    "for i in my_iter:\n",
    "    print(i)\n",
    "\"\"\"\n",
    "#prints 7\n",
    "print(next(my_iter))\n",
    "\n",
    "#### next(obj) is same as obj.__next__()\n",
    "\n",
    "#prints 0\n",
    "print(my_iter.__next__())\n",
    "\n",
    "#prints 3\n",
    "print(my_iter.__next__())\n",
    "\n",
    "##### This will raise error, no items left\n",
    "next(my_iter)\n",
    "\"\"\"\n",
    "```\n",
    "\n",
    "The Output:\n",
    "\n",
    "\n",
    "```python\n",
    "7\n",
    "0\n",
    "3\n",
    "\n",
    "Traceback (most recent call last):\n",
    "  File \"<stdin>\", line 24, in <module>\n",
    "    next(my_iter)\n",
    "StopIteration\n",
    "\n",
    "4\n",
    "7\n",
    "0\n",
    "3\n",
    "Out[1]: '\\n#prints 7\\nprint(next(my_iter))\\n\\n## next(obj) is same as obj.__next__()\\n\\n#prints 0\\nprint(my_iter.__next__())\\n\\n#prints 3\\nprint(my_iter.__next__())\\n\\n## This will raise error, no items left\\nnext(my_iter)\\n'\n",
    "4\n",
    "7\n",
    "0\n",
    "3\n",
    "Out[1]: '\\n#prints 7\\nprint(next(my_iter))\\n\\n## next(obj) is same as obj.__next__()\\n\\n#prints 0\\nprint(my_iter.__next__())\\n\\n#prints 3\\nprint(my_iter.__next__())\\n\\n## This will raise error, no items left\\nnext(my_iter)\\n'\n",
    "\n",
    "In [1]:\n",
    "```\n",
    "\n",
    "Python zip()\n",
    "\n",
    "* The zip() function take iterables (can be zero or more), makes iterator that aggregates elements based on the iterables passed, and returns an iterator of tuples. See more: \n",
    "https://www.programiz.com/python-programming/methods/built-in/zip\n",
    "\n",
    "python items() function \n",
    "https://www.programiz.com/python-programming/methods/dictionary/items\n",
    "\n",
    "Markdown Cheatsheet \n",
    "https://github.com/adam-p/markdown-here/wiki/Markdown-Cheatsheet\n"
   ]
  },
  {
   "cell_type": "code",
   "execution_count": 141,
   "metadata": {},
   "outputs": [],
   "source": [
    "# method Nr. 1\n",
    "\n",
    "\n",
    "def dist_cont(a, b):\n",
    "    return (a[0] - b[0]) ** 2 + ((a[1] - b[1]) / 50.0) ** 2 + (a[2] - b[2]) ** 2\n",
    "\n",
    "# calculating the mean of each class\n",
    "#-----------------------------------\n",
    "\n",
    "def get_means(datum, len_datum):\n",
    "    return tuple(map(lambda feature_sum: feature_sum / len_datum, datum))\n",
    "\n",
    "def calc_means(divided_classes):\n",
    "    for label, datum in divided_classes.items():\n",
    "        datum_sum = tuple(sum(d) for d in zip(*datum))\n",
    "        divided_classes[label] = get_means(datum_sum, len(datum))\n",
    "    return divided_classes                                \n",
    "\n",
    "\n",
    "#-----------------------------------\n",
    "\n",
    "class NearestMeanClassifier_1:\n",
    "    # collect the data for each class together\n",
    "    \n",
    "    #-----------------------------------\n",
    "    def divide_to_classes(self, train_set):\n",
    "        \n",
    "        classes = {}\n",
    "        \n",
    "        # there is so many other sol. to do this see more\n",
    "        # https://stackoverflow.com/questions/53653842/how-to-create-dictionary-with-new-keys-and-values-and-also-add-values-to-one-key\n",
    "        for datum, label in train_set:\n",
    "            if label not in classes:\n",
    "                classes[label] = []\n",
    "            classes[label].append(datum)\n",
    "            \n",
    "        \n",
    "        return classes\n",
    "    #-----------------------------------\n",
    "   \n",
    "    \n",
    "    \n",
    "    def train(self, dataset):\n",
    "        \n",
    "        divided_classes = self.divide_to_classes(dataset)\n",
    "        self.means = calc_means(divided_classes)\n",
    "        \n",
    "    def predict(self, x):\n",
    "        labels = list()\n",
    "        dist_trn_tst = list()\n",
    "        for label, mean in self.means.items():\n",
    "            dist_trn_tst.append(dist_cont(mean, x))\n",
    "            labels.append(label)\n",
    "        prediction = labels[dist_trn_tst.index(min(dist_trn_tst))]\n",
    "            \n",
    "        return prediction\n",
    "                                    \n",
    "                                    \n",
    "   \n",
    "#-----------------------------------\n",
    "# method Nr. 2\n",
    "\n",
    "\n",
    "#simplified code for this code to know what happend\n",
    "\"\"\"\n",
    "a = [(1, 3, 5), (1, 3, 5), (1, 3, 5), (1, 3, 5)]\n",
    "a = iter(a)\n",
    "b = next(a)\n",
    "print(b, a)\n",
    "Output:\n",
    "(1, 3, 5) <list_iterator object at 0x000001F03050F748>\n",
    "\"\"\"\n",
    "def reduce(fn, iterable):\n",
    "    #print(iterable)\n",
    "    iterable = iter(iterable)\n",
    "    reduced = next(iterable)\n",
    "    #print(reduced)\n",
    "    for element in iterable:\n",
    "        #print(element)\n",
    "        reduced = fn(reduced, element)\n",
    "    #print(reduced)\n",
    "    return reduced\n",
    "\n",
    "def d_continuous(a, b):\n",
    "    return (a[0] - b[0]) ** 2 + ((a[1] - b[1]) / 50.0) ** 2 + (a[2] - b[2]) ** 2\n",
    "\n",
    "class NearestMeanClassifier_2:\n",
    "    \n",
    "    def _collect_classes(self, dataset):\n",
    "        class_collection = {}\n",
    "        #print(dataset)\n",
    "        for datum, label in dataset:\n",
    "            # he did the exception to put the new class and after that appending in try part\n",
    "            try:\n",
    "                class_collection[label].append(datum)\n",
    "            except KeyError:\n",
    "                class_collection[label] = [datum]\n",
    "        #print(class_collection)\n",
    "        # here we sperarate every class alone\n",
    "        # this output is only for demonstration\n",
    "        #print(class_collection)\n",
    "        return class_collection\n",
    "    def _map_collection_mean(self, class_collection):\n",
    "        for label, data in class_collection.items():\n",
    "            #print(data)\n",
    "            class_collection[label] = self._calc_data_mean(data)\n",
    "        return class_collection\n",
    "    \n",
    "    def _calc_data_mean(self, data):\n",
    "        total_vector = reduce(self._sum_vectors, data)\n",
    "        #print(total_vector)\n",
    "        return tuple(map(lambda x:  x / len(data), total_vector))\n",
    "    \n",
    "    def _sum_vectors(self, a, b):\n",
    "        return map(sum, zip(a, b))\n",
    "    \n",
    "    def train(self, dataset):\n",
    "        class_collection = self._collect_classes(dataset)\n",
    "        self.means = self._map_collection_mean(class_collection)\n",
    "        \n",
    "    def predict(self, x):\n",
    "        nearest_label = None\n",
    "        smallest_distance = float('inf')\n",
    "        for label, mean in self.means.items():\n",
    "            current_distance = d_continuous(x, mean)\n",
    "            if current_distance < smallest_distance:\n",
    "                smallest_distance = current_distance\n",
    "                nearest_label = label\n",
    "                \n",
    "        return nearest_label\n",
    "    \n"
   ]
  },
  {
   "cell_type": "markdown",
   "metadata": {},
   "source": [
    "* Build an object of class `NearestMeanClassifier`, train it on the training data, and return the mean vector for each class. You should return a dictionary with keys `less` and `more`. Each key should correspond to a mean vector.\n",
    "\n",
    "Hint:\n",
    "\n",
    "The get() method is used to avoid such situations. This method returns the value for the given key, if present in the dictionary. If not, then it will return None (if get() is used with only one argument).\n",
    "\n",
    "Syntax :\n",
    "\n",
    "Dict.get(key, default=None)\n",
    "\n",
    "See more: https://www.geeksforgeeks.org/get-method-dictionaries-python/"
   ]
  },
  {
   "cell_type": "code",
   "execution_count": 142,
   "metadata": {},
   "outputs": [
    {
     "data": {
      "text/plain": [
       "{'less': (0.3333333333333333, 32.111111111111114, 0.2222222222222222),\n",
       " 'more': (0.5714285714285714, 37.142857142857146, 0.5714285714285714)}"
      ]
     },
     "execution_count": 142,
     "metadata": {},
     "output_type": "execute_result"
    }
   ],
   "source": [
    "value_mapping = {'yes': 1., 'no': 0., 'good': 0., 'poor': 1.}\n",
    "\n",
    "def discrete_to_continuous(value):\n",
    "    #check if mapping available, else return original \n",
    "    return value_mapping.get(value, value)\n",
    "\n",
    "def convert(dataset):\n",
    "    return [(tuple(map(discrete_to_continuous, vector)), label) for vector, label in dataset]\n",
    "\n",
    "def buil_and_train():\n",
    "    classifier = NearestMeanClassifier_1()\n",
    "    training_data = convert(gettrain_2())\n",
    "    classifier.train(training_data)\n",
    "    return classifier.means\n",
    "buil_and_train()"
   ]
  },
  {
   "cell_type": "markdown",
   "metadata": {},
   "source": [
    "* Predict the test data using the nearest mean classifier and return all test examples for which all three classifiers (decision tree, nearest neighbor and nearest mean) agree. You should return a list contaning tuples. Each tuple should contain the datapoint and the prediction i.e.\n",
    "\n",
    "`[(('no', 50, 'good'), 'less', ... ]`"
   ]
  },
  {
   "cell_type": "code",
   "execution_count": 173,
   "metadata": {},
   "outputs": [
    {
     "data": {
      "text/plain": [
       "[(('no', 50, 'good'), 'less'),\n",
       " (('no', 23, 'good'), 'less'),\n",
       " (('yes', 45, 'poor'), 'more'),\n",
       " (('no', 60, 'good'), 'less'),\n",
       " (('no', 15, 'poor'), 'more'),\n",
       " (('no', 18, 'good'), 'less')]"
      ]
     },
     "execution_count": 173,
     "metadata": {},
     "output_type": "execute_result"
    }
   ],
   "source": [
    "# mehtod Nr. 1 Repeat the lower one without looking at it\n",
    "def predict_test_1():\n",
    "    # get data\n",
    "    train_data = gettrain_1()\n",
    "    test_data = gettest_1()\n",
    "\n",
    "    # train classifiers\n",
    "    mean_nn_classifier = NearestMeanClassifier_1()\n",
    "    mean_nn_classifier.train(convert(train_data))\n",
    "\n",
    "    agreed_records = list()\n",
    "    # get the prediction\n",
    "    for vector in test_data:\n",
    "        dt_predictions = decision_1(vector)\n",
    "        nn_predictions = neighbor_1(vector, train_data)\n",
    "\n",
    "        # first prepare the vector to use \n",
    "        vector_continuous = tuple(map(discrete_to_continuous, vector))\n",
    "        mean_nn_predictions = mean_nn_classifier.predict(vector_continuous)\n",
    "\n",
    "        if dt_predictions == nn_predictions == mean_nn_predictions:\n",
    "            agreed_records.append((vector, dt_predictions))\n",
    "\n",
    "    return agreed_records\n",
    "        \n",
    "# ----------------------------------------------------\n",
    "# mehtod Nr. 2\n",
    "def predict_test_2():\n",
    "    #load data\n",
    "    test_data = gettest_2()\n",
    "    training_data = gettrain_2()\n",
    "    \n",
    "    #train classifiers\n",
    "    nn_predict = nn_map_fn(training_data)\n",
    "    mean_nn_classifier = NearestMeanClassifier_1()\n",
    "    mean_nn_classifier.train(convert(gettrain_2()))\n",
    "    \n",
    "    agreed_samples = []\n",
    "    for vector in test_data:\n",
    "        dt_result = decision_2(vector)\n",
    "        nn_result = nn_predict(vector)\n",
    "        \n",
    "        \n",
    "        vector_cont = tuple(map(discrete_to_continuous, vector))\n",
    "        mean_nn_result = mean_nn_classifier.predict(vector_cont)\n",
    "        if dt_result == nn_result == mean_nn_result:\n",
    "            agreed_samples.append((vector, mean_nn_result))\n",
    "    return agreed_samples\n",
    "\n",
    "predict_test_1()"
   ]
  }
 ],
 "metadata": {
  "kernelspec": {
   "display_name": "Python 3",
   "language": "python",
   "name": "python3"
  },
  "language_info": {
   "codemirror_mode": {
    "name": "ipython",
    "version": 3
   },
   "file_extension": ".py",
   "mimetype": "text/x-python",
   "name": "python",
   "nbconvert_exporter": "python",
   "pygments_lexer": "ipython3",
   "version": "3.7.0"
  }
 },
 "nbformat": 4,
 "nbformat_minor": 2
}
