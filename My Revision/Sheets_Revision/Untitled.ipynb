{
 "cells": [
  {
   "cell_type": "code",
   "execution_count": 2,
   "metadata": {},
   "outputs": [
    {
     "name": "stdout",
     "output_type": "stream",
     "text": [
      "hello\n"
     ]
    }
   ],
   "source": [
    "print(\"hello\")"
   ]
  },
  {
   "cell_type": "code",
   "execution_count": 22,
   "metadata": {},
   "outputs": [
    {
     "name": "stdout",
     "output_type": "stream",
     "text": [
      "<class 'zip'>\n",
      "<class 'zip'>\n",
      "<class 'zip'>\n"
     ]
    },
    {
     "data": {
      "text/plain": [
       "(10, 12, 20)"
      ]
     },
     "execution_count": 22,
     "metadata": {},
     "output_type": "execute_result"
    }
   ],
   "source": [
    "def test_func():\n",
    "    a = [(1, 3, 5), (2, 3, 5), (3, 3, 5), (4, 3, 5)]\n",
    "    a = iter(a)\n",
    "    b = next(a)\n",
    "    for i in a:\n",
    "        b =sum_func(b, i)\n",
    "    return b\n",
    "\n",
    "def sum_func(a, b):\n",
    "    print(zip(a, b))\n",
    "    return tuple(map(sum, zip(a, b)))\n",
    "\n",
    "test_func()\n"
   ]
  },
  {
   "cell_type": "code",
   "execution_count": 43,
   "metadata": {},
   "outputs": [
    {
     "data": {
      "text/plain": [
       "(10, 12, 20)"
      ]
     },
     "execution_count": 43,
     "metadata": {},
     "output_type": "execute_result"
    }
   ],
   "source": [
    "a = [(1, 3, 5), (2, 3, 5), (3, 3, 5), (4, 3, 5)]\n",
    "tuple(sum(x) for x in zip(*a))\n"
   ]
  },
  {
   "cell_type": "code",
   "execution_count": 44,
   "metadata": {},
   "outputs": [
    {
     "name": "stdout",
     "output_type": "stream",
     "text": [
      "defaultdict(<class 'list'>, {'less': [(1.0, 54, 0.0), (0.0, 55, 0.0), (0.0, 26, 0.0), (1.0, 25, 1.0)], 'more': [(1.0, 40, 0.0)]})\n"
     ]
    }
   ],
   "source": [
    "data = [((1.0, 54, 0.0), 'less'),\n",
    " ((0.0, 55, 0.0), 'less'),\n",
    " ((0.0, 26, 0.0), 'less'),\n",
    " ((1.0, 40, 0.0), 'more'),\n",
    " ((1.0, 25, 1.0), 'less')]\n",
    "\n",
    "from collections import defaultdict\n",
    "result = defaultdict(list)\n",
    "for value, key in data:\n",
    "    result[key].append(value)\n",
    "\n",
    "print(result)"
   ]
  },
  {
   "cell_type": "code",
   "execution_count": 46,
   "metadata": {},
   "outputs": [
    {
     "name": "stdout",
     "output_type": "stream",
     "text": [
      "defaultdict(<class 'list'>, {'less': [(1.0, 54, 0.0), (0.0, 55, 0.0), (0.0, 26, 0.0), (1.0, 25, 1.0)], 'more': [(1.0, 40, 0.0)]})\n"
     ]
    }
   ],
   "source": [
    "from collections import defaultdict\n",
    "data_tuple = [((1.0, 54, 0.0), 'less'),\n",
    " ((0.0, 55, 0.0), 'less'),\n",
    " ((0.0, 26, 0.0), 'less'),\n",
    " ((1.0, 40, 0.0), 'more'),\n",
    " ((1.0, 25, 1.0), 'less')]\n",
    "result = defaultdict(list)\n",
    "# Assuming your list is in a variable called 'data'\n",
    "for data_tuple in data:\n",
    "    result[data_tuple[1]].append(data_tuple[0])\n",
    "print(result)"
   ]
  },
  {
   "cell_type": "code",
   "execution_count": 48,
   "metadata": {},
   "outputs": [
    {
     "name": "stdout",
     "output_type": "stream",
     "text": [
      "{'less': [(1.0, 54, 0.0), (0.0, 55, 0.0), (0.0, 26, 0.0), (1.0, 25, 1.0)], 'more': [(1.0, 40, 0.0)]}\n"
     ]
    }
   ],
   "source": [
    "list_of_tuples = [((1.0, 54, 0.0), 'less'),\n",
    " ((0.0, 55, 0.0), 'less'),\n",
    " ((0.0, 26, 0.0), 'less'),\n",
    " ((1.0, 40, 0.0), 'more'),\n",
    " ((1.0, 25, 1.0), 'less')]\n",
    "\n",
    "out_dict = {}\n",
    "for t in list_of_tuples:\n",
    "    if t[1] not in out_dict:\n",
    "        out_dict[t[1]] = []\n",
    "    out_dict[t[1]].append(t[0])\n",
    "print(out_dict)"
   ]
  },
  {
   "cell_type": "code",
   "execution_count": null,
   "metadata": {},
   "outputs": [],
   "source": []
  }
 ],
 "metadata": {
  "kernelspec": {
   "display_name": "Python 3",
   "language": "python",
   "name": "python3"
  }
 },
 "nbformat": 4,
 "nbformat_minor": 2
}
