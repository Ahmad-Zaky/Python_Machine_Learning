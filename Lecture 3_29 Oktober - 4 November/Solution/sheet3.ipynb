{
 "cells": [
  {
   "cell_type": "markdown",
   "metadata": {},
   "source": [
    "## Before submitting\n",
    "1. Before you turn this problem in, make sure everything runs as expected. First, **restart the kernel** (in the menubar, select Kernel$\\rightarrow$Restart) and then **run all cells** (in the menubar, select Cell$\\rightarrow$Run All).\n",
    "\n",
    "2. Make sure that no assertions fail or exceptions occur, otherwise points will be subtracted.\n",
    "\n",
    "3. Please submit only the `*.ipynb` file.\n",
    "\n",
    "4. Make sure you fill in any place that says `YOUR CODE HERE` or \"YOUR ANSWER HERE\". Edit only between `YOUR CODE HERE` and `END YOUR CODE`.\n",
    "\n",
    "5. Make sure to use Python 3, not Python 2.\n",
    "\n",
    "Fill your group name and collaborators below:"
   ]
  },
  {
   "cell_type": "code",
   "execution_count": 1,
   "metadata": {},
   "outputs": [],
   "source": [
    "GROUPNAME = \"Group001\"\n",
    "COLLABORATORS = \"Bermudez Schettino, Rodrigo; Prietz, Pablo; Zaky Mohamed, Ahmed Mohamed Fouad\""
   ]
  },
  {
   "cell_type": "markdown",
   "metadata": {},
   "source": [
    "---"
   ]
  },
  {
   "cell_type": "markdown",
   "metadata": {
    "deletable": false,
    "editable": false,
    "nbgrader": {
     "checksum": "492198d352643668ab5911032e3e2032",
     "grade": false,
     "grade_id": "cell-8c6240920f08e7c8",
     "locked": true,
     "schema_version": 1,
     "solution": false
    }
   },
   "source": [
    "# Sheet 3: Rounding, Overflow, Linear Algebra\n",
    "\n",
    "In this exercise sheet, we look at various sources of numerical overflow when executing Python and numpy code for large input values, and how to efficiently handle them, for example, by using numpy special functions."
   ]
  },
  {
   "cell_type": "code",
   "execution_count": 2,
   "metadata": {},
   "outputs": [],
   "source": [
    "import numpy,utils\n",
    "import numpy as np"
   ]
  },
  {
   "cell_type": "markdown",
   "metadata": {},
   "source": [
    "## Building a robust \"softplus\" nonlinear function (30 P)\n",
    "\n",
    "The softplus function is defined as:\n",
    "\n",
    "$$\n",
    "\\mathrm{softplus}(x) = \\log(1+\\exp(x)).\n",
    "$$\n",
    "\n",
    "It intervenes as elementary computation in certain machine learning models such as neural networks. Plotting it gives the following curve\n",
    "\n",
    "![plot generated using fooplot.com](softplus.png)\n",
    "\n",
    "where the function tends to zero for very negative input values and tends to the identity for very positive input values."
   ]
  },
  {
   "cell_type": "code",
   "execution_count": 3,
   "metadata": {},
   "outputs": [],
   "source": [
    "def softplus(z): return numpy.log(1+numpy.exp(z))"
   ]
  },
  {
   "cell_type": "markdown",
   "metadata": {},
   "source": [
    "We consider an input vector from the module `utils` containing varying values between 1 and 10000. We would like to apply the `softplus` function to all of its element in an element-wise manner."
   ]
  },
  {
   "cell_type": "code",
   "execution_count": 4,
   "metadata": {},
   "outputs": [
    {
     "name": "stdout",
     "output_type": "stream",
     "text": [
      "[-10000, -1000, -100, -10, -1, 0, 1, 10, 100, 1000, 10000]\n"
     ]
    }
   ],
   "source": [
    "X = utils.softplus_inputs\n",
    "print(X)"
   ]
  },
  {
   "cell_type": "markdown",
   "metadata": {},
   "source": [
    "We choose these large values in order to test whether the behavior of the function is correct in all regimes of the function, in particular, for very small or very large values. The code below applies the `softplus` function directly to the vector of inputs and then prints for all cases the input and the corresponding function output:"
   ]
  },
  {
   "cell_type": "code",
   "execution_count": 5,
   "metadata": {},
   "outputs": [
    {
     "name": "stdout",
     "output_type": "stream",
     "text": [
      "softplus(-10000.0000) =      0.0000\n",
      "softplus( -1000.0000) =      0.0000\n",
      "softplus(  -100.0000) =      0.0000\n",
      "softplus(   -10.0000) =      0.0000\n",
      "softplus(    -1.0000) =      0.3133\n",
      "softplus(     0.0000) =      0.6931\n",
      "softplus(     1.0000) =      1.3133\n",
      "softplus(    10.0000) =     10.0000\n",
      "softplus(   100.0000) =    100.0000\n",
      "softplus(  1000.0000) =         inf\n",
      "softplus( 10000.0000) =         inf\n"
     ]
    }
   ],
   "source": [
    "Y = softplus(X)\n",
    "for x,y in zip(X,Y):\n",
    "    print('softplus(%11.4f) = %11.4f'%(x,y))"
   ]
  },
  {
   "cell_type": "markdown",
   "metadata": {},
   "source": [
    "For large input values, the softplus function returns `inf` whereas analysis of that function tells us that it should compute the identity. Let's now try to apply the softplus function one element at a time, to see whether the problem comes from numpy arrays:"
   ]
  },
  {
   "cell_type": "code",
   "execution_count": 6,
   "metadata": {},
   "outputs": [
    {
     "name": "stdout",
     "output_type": "stream",
     "text": [
      "softplus(-10000.0000) =      0.0000\n",
      "softplus( -1000.0000) =      0.0000\n",
      "softplus(  -100.0000) =      0.0000\n",
      "softplus(   -10.0000) =      0.0000\n",
      "softplus(    -1.0000) =      0.3133\n",
      "softplus(     0.0000) =      0.6931\n",
      "softplus(     1.0000) =      1.3133\n",
      "softplus(    10.0000) =     10.0000\n",
      "softplus(   100.0000) =    100.0000\n",
      "softplus(  1000.0000) =         inf\n",
      "softplus( 10000.0000) =         inf\n"
     ]
    }
   ],
   "source": [
    "for x in X:\n",
    "    y = softplus(x)\n",
    "    print('softplus(%11.4f) = %11.4f'%(x,y))"
   ]
  },
  {
   "cell_type": "markdown",
   "metadata": {},
   "source": [
    "Unfortunately, the result is the same. We observe that the function always stops working when its output approaches 1000, even though the input was given in high precision `float64`."
   ]
  },
  {
   "cell_type": "markdown",
   "metadata": {},
   "source": [
    "* Create an alternative function for `softplus_robust` that applies to input scalars and that correctly applies to values that can be much larger than 1000 (e.g. billions or more). Your function can be written in Python directly and does not need numpy parallelization."
   ]
  },
  {
   "cell_type": "code",
   "execution_count": 7,
   "metadata": {
    "deletable": false,
    "nbgrader": {
     "checksum": "3e232ee4c214c2190676b91f8068b9f6",
     "grade": false,
     "grade_id": "cell-93b1547259c034bf",
     "locked": false,
     "schema_version": 1,
     "solution": true
    }
   },
   "outputs": [],
   "source": [
    "def softplus_robust(x):\n",
    "    # >>>>> YOUR CODE HERE\n",
    "    return numpy.log(1+numpy.exp(-x))\n",
    "    # <<<<< END YOUR CODE"
   ]
  },
  {
   "cell_type": "code",
   "execution_count": 8,
   "metadata": {
    "deletable": false,
    "editable": false,
    "nbgrader": {
     "checksum": "ec987820a17c93f4f940236c46e145ce",
     "grade": true,
     "grade_id": "cell-fb74b76bf3187fe1",
     "locked": true,
     "points": 15,
     "schema_version": 1,
     "solution": false
    }
   },
   "outputs": [
    {
     "name": "stdout",
     "output_type": "stream",
     "text": [
      "softplus(-10000.0000) =         inf\n",
      "softplus( -1000.0000) =         inf\n",
      "softplus(  -100.0000) =    100.0000\n",
      "softplus(   -10.0000) =     10.0000\n",
      "softplus(    -1.0000) =      1.3133\n",
      "softplus(     0.0000) =      0.6931\n",
      "softplus(     1.0000) =      0.3133\n",
      "softplus(    10.0000) =      0.0000\n",
      "softplus(   100.0000) =      0.0000\n",
      "softplus(  1000.0000) =      0.0000\n",
      "softplus( 10000.0000) =      0.0000\n"
     ]
    }
   ],
   "source": [
    "# Verify your function\n",
    "for x in X:\n",
    "    y = softplus_robust(x)\n",
    "    print('softplus(%11.4f) = %11.4f'%(x,y))\n"
   ]
  },
  {
   "cell_type": "markdown",
   "metadata": {},
   "source": [
    "As we have seen in the previous exercise sheet, the problem of functions that apply to scalars only is that they are less efficient than functions that apply to vectors directly. Therefore, we would like to handle the rounding issue directly at the vector level.\n",
    "\n",
    "* Create a new softplus function that applies to vectors and that has the desired behavior for large input values. Your function should be fast for large input vectors (i.e. it is not appropriate to use an inner Python loop inside the function).\n",
    "\n",
    "__Note__ that there are ways to vectorize a function directly (see [`np.vectorize`](https://docs.scipy.org/doc/numpy-1.15.0/reference/generated/numpy.vectorize.html)) but those are based on Python loops which provide no speed advantage and should therefore be avoided. It should go without saying, that `for/while` loops and functions like `map` are also not to be used. The cell below should demonstrate how much faster a correct implementation is."
   ]
  },
  {
   "cell_type": "code",
   "execution_count": 9,
   "metadata": {
    "deletable": false,
    "nbgrader": {
     "checksum": "fd4fed755a9ea681e7272b686de05e5d",
     "grade": false,
     "grade_id": "cell-c47d1d41d1970a7d",
     "locked": false,
     "schema_version": 1,
     "solution": true
    }
   },
   "outputs": [],
   "source": [
    "def softplus_robust_vec(X):\n",
    "    # >>>>> YOUR CODE HERE\n",
    "    return softplus_robust(np.asarray(X))\n",
    "    #return np.fromiter((softplus_robust(x) for x in X), float, count=len(X))\n",
    "    # <<<<< END YOUR CODE"
   ]
  },
  {
   "cell_type": "code",
   "execution_count": 10,
   "metadata": {
    "deletable": false,
    "editable": false,
    "nbgrader": {
     "checksum": "d3d8f6a2b0666c9beeb543dec0449dbf",
     "grade": true,
     "grade_id": "cell-cfd426eaca3d5169",
     "locked": true,
     "points": 15,
     "schema_version": 1,
     "solution": false
    }
   },
   "outputs": [
    {
     "name": "stdout",
     "output_type": "stream",
     "text": [
      "softplus(-10000.0000) =         inf\n",
      "softplus( -1000.0000) =         inf\n",
      "softplus(  -100.0000) =    100.0000\n",
      "softplus(   -10.0000) =     10.0000\n",
      "softplus(    -1.0000) =      1.3133\n",
      "softplus(     0.0000) =      0.6931\n",
      "softplus(     1.0000) =      0.3133\n",
      "softplus(    10.0000) =      0.0000\n",
      "softplus(   100.0000) =      0.0000\n",
      "softplus(  1000.0000) =      0.0000\n",
      "softplus( 10000.0000) =      0.0000\n",
      "Vectorized function needs...\n",
      "27 µs ± 1.7 µs per loop (mean ± std. dev. of 7 runs, 10000 loops each)\n",
      "Python loops need...\n",
      "1.98 ms ± 28 µs per loop (mean ± std. dev. of 7 runs, 1000 loops each)\n"
     ]
    }
   ],
   "source": [
    "# Verify your function\n",
    "\n",
    "Y = softplus_robust_vec(X)\n",
    "Tuples = tuple(zip(X,Y))\n",
    "for tup in Tuples:\n",
    "    print('softplus(%11.4f) = %11.4f'%tup)\n",
    "\n",
    "'''\n",
    "This is just a demonstration.\n",
    "As long as your vectorized function is consistently faster than the loop implementation,\n",
    "your solution should be acceptable. \n",
    "There are no concrete numbers about the speed-up.\n",
    "'''\n",
    "from timeit import timeit\n",
    "RAND_INPUT = np.random.rand(500)\n",
    "print(\"Vectorized function needs...\")\n",
    "%timeit softplus_robust_vec(RAND_INPUT)\n",
    "\n",
    "print(\"Python loops need...\")\n",
    "def vectorize_with_loop(X):\n",
    "    return np.array([softplus_robust(x) for x in X])\n",
    "%timeit vectorize_with_loop(RAND_INPUT)\n",
    "\n"
   ]
  },
  {
   "cell_type": "markdown",
   "metadata": {},
   "source": [
    "## Computing a partition function (40 P)\n",
    "\n",
    "We consider a discrete probability distribution of type\n",
    "$$\n",
    "p(\\boldsymbol{x};\\boldsymbol{w}) = \\frac{1}{Z(\\boldsymbol{w})} \\exp(\\boldsymbol{x}^\\top \\boldsymbol{w})\n",
    "$$\n",
    "where $\\boldsymbol{x} \\in \\{-1,1\\}^{10}$ is an observation, and $\\boldsymbol{w} \\in \\mathbb{R}^{10}$ is a vector of parameters. The term $Z(\\boldsymbol{w})$ is called the partition function and is chosen such that the probability distribution sums to 1. That is, the equation:\n",
    "$$\n",
    "\\sum_{\\boldsymbol{x} \\in \\{-1,1\\}^{10}} p(\\boldsymbol{x};\\boldsymbol{w}) = 1\n",
    "$$\n",
    "must be satisfied. Below is a simple method that computes the log of the partition function $Z(\\boldsymbol{w})$ for various choices of parameter vectors. The considered parameters (`w_small`, `w_medium`, and `w_big`) are increasingly large (and thus problematic), and can be found in the file `utils.py`."
   ]
  },
  {
   "cell_type": "code",
   "execution_count": 11,
   "metadata": {},
   "outputs": [
    {
     "name": "stdout",
     "output_type": "stream",
     "text": [
      "    17.2457\n",
      "    89.5932\n",
      "        inf\n"
     ]
    }
   ],
   "source": [
    "import numpy,utils\n",
    "import itertools\n",
    "\n",
    "def getlogZ(w):\n",
    "    Z = 0\n",
    "    for x in itertools.product([-1, 1], repeat=10):\n",
    "        Z += numpy.exp(numpy.dot(x,w))\n",
    "    return numpy.log(Z)\n",
    "\n",
    "print('%11.4f'%getlogZ(utils.w_small))\n",
    "print('%11.4f'%getlogZ(utils.w_medium))\n",
    "print('%11.4f'%getlogZ(utils.w_big))"
   ]
  },
  {
   "cell_type": "markdown",
   "metadata": {},
   "source": [
    "We can observe from these results, that for parameter vectors with large values (e.g. `utils.w_big`), the exponential function overflows, and thus, we do not obtain a correct value for the logarithm of `Z`.\n",
    "\n",
    "* Implement an improved function  `getlogZ_robust` that avoids the overflow problem, and evaluates the partition function for the same parameters."
   ]
  },
  {
   "cell_type": "code",
   "execution_count": 12,
   "metadata": {
    "deletable": false,
    "nbgrader": {
     "checksum": "729c10aca80084f06fee3469d6ae6dde",
     "grade": false,
     "grade_id": "cell-00f9c42442638723",
     "locked": false,
     "schema_version": 1,
     "solution": true
    }
   },
   "outputs": [],
   "source": [
    "\n",
    "def getlogZ_robust(w):\n",
    "    # >>>>> YOUR CODE HERE\n",
    "    X = [np.dot(x, w) for x in itertools.product([-1, 1], repeat=10)]\n",
    "    x_max = max(X)\n",
    "    exp_diff = lambda x: np.exp(x-x_max)\n",
    "    sum_exp = sum(exp_diff(X))\n",
    "    return x_max + numpy.log(sum_exp)\n",
    "    # <<<<< END YOUR CODE"
   ]
  },
  {
   "cell_type": "code",
   "execution_count": 13,
   "metadata": {
    "deletable": false,
    "editable": false,
    "nbgrader": {
     "checksum": "adc37dc7367339bdd22557ee0e5b2f39",
     "grade": true,
     "grade_id": "cell-4a28c4a0b78d1e03",
     "locked": true,
     "points": 20,
     "schema_version": 1,
     "solution": false
    }
   },
   "outputs": [
    {
     "name": "stdout",
     "output_type": "stream",
     "text": [
      "    17.2457\n",
      "    89.5932\n",
      " 24919.9913\n"
     ]
    }
   ],
   "source": [
    "# Verify your function\n",
    "print('%11.4f'%getlogZ_robust(utils.w_small))\n",
    "print('%11.4f'%getlogZ_robust(utils.w_medium))\n",
    "print('%11.4f'%getlogZ_robust(utils.w_big))"
   ]
  },
  {
   "cell_type": "markdown",
   "metadata": {},
   "source": [
    "* For the model with parameter `utils.w_big`, evaluate the log-probability of the binary vectors contained in the list `itertools.product([-1, 1], repeat=10)`, and return a `numpy` array of the indices (starting from 0) of those that have probability greater or equal to 0.001."
   ]
  },
  {
   "cell_type": "code",
   "execution_count": 14,
   "metadata": {
    "deletable": false,
    "nbgrader": {
     "checksum": "c3d679282c8dfd939e8b36ec227d78c4",
     "grade": false,
     "grade_id": "cell-f2f50a11749c5d3e",
     "locked": false,
     "schema_version": 1,
     "solution": true
    }
   },
   "outputs": [],
   "source": [
    "def important_indexes(tol = 0.001):\n",
    "    Z = getlogZ_robust(utils.w_big)\n",
    "    # >>>>> YOUR CODE HERE\n",
    "    X = tuple(itertools.product([-1, 1], repeat=10))\n",
    "    W = utils.w_big\n",
    "    \n",
    "    probability_distribution = np.log(1/Z)+np.dot(X,W)\n",
    "    return np.where(probability_distribution>tol)\n",
    "    # <<<<< END YOUR CODE"
   ]
  },
  {
   "cell_type": "code",
   "execution_count": 15,
   "metadata": {
    "deletable": false,
    "editable": false,
    "nbgrader": {
     "checksum": "f3773716128306edd651d73ee9c486f6",
     "grade": true,
     "grade_id": "cell-89878affaff6ee2e",
     "locked": true,
     "points": 20,
     "schema_version": 1,
     "solution": false
    }
   },
   "outputs": [
    {
     "name": "stdout",
     "output_type": "stream",
     "text": [
      "(array([  16,   17,   18,   19,   20,   21,   22,   23,   24,   25,   26,\n",
      "         27,   28,   29,   30,   31,   48,   49,   50,   51,   52,   53,\n",
      "         54,   55,   56,   57,   58,   59,   60,   61,   62,   63,   80,\n",
      "         81,   82,   83,   84,   85,   86,   87,   88,   89,   90,   91,\n",
      "         92,   93,   94,   95,  112,  113,  114,  115,  116,  117,  118,\n",
      "        119,  120,  121,  122,  123,  124,  125,  126,  127,  144,  145,\n",
      "        146,  147,  148,  149,  150,  151,  152,  153,  154,  155,  156,\n",
      "        157,  158,  159,  176,  177,  178,  179,  180,  181,  182,  183,\n",
      "        184,  185,  186,  187,  188,  189,  190,  191,  208,  209,  210,\n",
      "        211,  212,  213,  214,  215,  216,  217,  218,  219,  220,  221,\n",
      "        222,  223,  240,  241,  242,  243,  244,  245,  246,  247,  248,\n",
      "        249,  250,  251,  252,  253,  254,  255,  272,  273,  274,  275,\n",
      "        276,  277,  278,  279,  280,  281,  282,  283,  284,  285,  286,\n",
      "        287,  304,  305,  306,  307,  308,  309,  310,  311,  312,  313,\n",
      "        314,  315,  316,  317,  318,  319,  336,  337,  338,  339,  340,\n",
      "        341,  342,  343,  344,  345,  346,  347,  348,  349,  350,  351,\n",
      "        368,  369,  370,  371,  372,  373,  374,  375,  376,  377,  378,\n",
      "        379,  380,  381,  382,  383,  400,  401,  402,  403,  404,  405,\n",
      "        406,  407,  408,  409,  410,  411,  412,  413,  414,  415,  432,\n",
      "        433,  434,  435,  436,  437,  438,  439,  440,  441,  442,  443,\n",
      "        444,  445,  446,  447,  464,  465,  466,  467,  468,  469,  470,\n",
      "        471,  472,  473,  474,  475,  476,  477,  478,  479,  496,  497,\n",
      "        498,  499,  500,  501,  502,  503,  504,  505,  506,  507,  508,\n",
      "        509,  510,  511,  528,  529,  530,  531,  532,  533,  534,  535,\n",
      "        536,  537,  538,  539,  540,  541,  542,  543,  560,  561,  562,\n",
      "        563,  564,  565,  566,  567,  568,  569,  570,  571,  572,  573,\n",
      "        574,  575,  592,  593,  594,  595,  596,  597,  598,  599,  600,\n",
      "        601,  602,  603,  604,  605,  606,  607,  624,  625,  626,  627,\n",
      "        628,  629,  630,  631,  632,  633,  634,  635,  636,  637,  638,\n",
      "        639,  656,  657,  658,  659,  660,  661,  662,  663,  664,  665,\n",
      "        666,  667,  668,  669,  670,  671,  688,  689,  690,  691,  692,\n",
      "        693,  694,  695,  696,  697,  698,  699,  700,  701,  702,  703,\n",
      "        720,  721,  722,  723,  724,  725,  726,  727,  728,  729,  730,\n",
      "        731,  732,  733,  734,  735,  752,  753,  754,  755,  756,  757,\n",
      "        758,  759,  760,  761,  762,  763,  764,  765,  766,  767,  784,\n",
      "        785,  786,  787,  788,  789,  790,  791,  792,  793,  794,  795,\n",
      "        796,  797,  798,  799,  816,  817,  818,  819,  820,  821,  822,\n",
      "        823,  824,  825,  826,  827,  828,  829,  830,  831,  848,  849,\n",
      "        850,  851,  852,  853,  854,  855,  856,  857,  858,  859,  860,\n",
      "        861,  862,  863,  880,  881,  882,  883,  884,  885,  886,  887,\n",
      "        888,  889,  890,  891,  892,  893,  894,  895,  912,  913,  914,\n",
      "        915,  916,  917,  918,  919,  920,  921,  922,  923,  924,  925,\n",
      "        926,  927,  944,  945,  946,  947,  948,  949,  950,  951,  952,\n",
      "        953,  954,  955,  956,  957,  958,  959,  976,  977,  978,  979,\n",
      "        980,  981,  982,  983,  984,  985,  986,  987,  988,  989,  990,\n",
      "        991, 1008, 1009, 1010, 1011, 1012, 1013, 1014, 1015, 1016, 1017,\n",
      "       1018, 1019, 1020, 1021, 1022, 1023]),)\n"
     ]
    }
   ],
   "source": [
    "# Verify your function\n",
    "print(important_indexes())"
   ]
  },
  {
   "cell_type": "markdown",
   "metadata": {},
   "source": [
    "## Probability of generating data from a Gaussian model (30 P)\n",
    "\n",
    "Consider a multivariate Gaussian distribution of mean vector `m` and covariance `S`. The probability associated to a vector `x` is given by:\n",
    "\n",
    "$$\n",
    "p(\\boldsymbol{x};(\\boldsymbol{m},S)) = \\frac{1}{\\sqrt{(2\\pi)^d \\mathrm{det}(S)}} \\exp \\Big( - \\frac12 (\\boldsymbol{x}-\\boldsymbol{m})^\\top S^{-1} (\\boldsymbol{x}-\\boldsymbol{m})\\Big)\n",
    "$$\n",
    "\n",
    "We consider the calculation of the probability of observing a certain dataset \n",
    "\n",
    "$$\n",
    "\\mathcal{D} = (\\boldsymbol{x}^{(1)},\\dots,\\boldsymbol{x}^{(N)})\n",
    "$$\n",
    "\n",
    "assuming the data is generated according to a Gaussian distribution of fixed parameters $\\boldsymbol{m}$ and $S$. Such probability density is given by the formula:\n",
    "\n",
    "$$\n",
    "\\log P(\\mathcal{D};(\\boldsymbol{m},S)) = \\log \\prod_{i=1}^N p(\\boldsymbol{x}^{(i)};(\\boldsymbol{m},S))\n",
    "$$\n",
    "\n",
    "The function below implements such function:"
   ]
  },
  {
   "cell_type": "code",
   "execution_count": 16,
   "metadata": {},
   "outputs": [],
   "source": [
    "import numpy,numpy.linalg,utils\n",
    "\n",
    "def logp(X,m,S):\n",
    "    \n",
    "    # Find the number of dimensions from the data vector\n",
    "    d = X.shape[1]\n",
    "    \n",
    "    # Invert the covariance matrix\n",
    "    Sinv = numpy.linalg.inv(S)\n",
    "    \n",
    "    # Compute the quadratic terms for all data points\n",
    "    Q = -0.5*(numpy.dot(X-m,Sinv)*(X-m)).sum(axis=1)\n",
    "    \n",
    "    # Raise them quadratic terms to the exponential\n",
    "    Q = numpy.exp(Q)\n",
    "    \n",
    "    # Divide by the terms in the denominator\n",
    "    P = Q / numpy.sqrt((2*numpy.pi)**d * numpy.linalg.det(S))\n",
    "    \n",
    "    # Take the product of the probability of each data points\n",
    "    Pprod = numpy.prod(P)\n",
    "    \n",
    "    # Return the log-probability\n",
    "    return numpy.log(Pprod)\n"
   ]
  },
  {
   "cell_type": "markdown",
   "metadata": {},
   "source": [
    "Evaluation of this function for various datasets and parameters provided in the file `utils.py` gives the following probabilities:"
   ]
  },
  {
   "cell_type": "code",
   "execution_count": 17,
   "metadata": {},
   "outputs": [
    {
     "name": "stdout",
     "output_type": "stream",
     "text": [
      "   -13.0068\n",
      "       -inf\n",
      "       -inf\n"
     ]
    },
    {
     "name": "stderr",
     "output_type": "stream",
     "text": [
      "/opt/conda/lib/python3.7/site-packages/ipykernel_launcher.py:24: RuntimeWarning: divide by zero encountered in log\n"
     ]
    }
   ],
   "source": [
    "print('%11.4f'%logp(utils.X1,utils.m1,utils.S1))\n",
    "print('%11.4f'%logp(utils.X2,utils.m2,utils.S2))\n",
    "print('%11.4f'%logp(utils.X3,utils.m3,utils.S3))"
   ]
  },
  {
   "cell_type": "markdown",
   "metadata": {},
   "source": [
    "This function is numerically instable for multiple reasons. The product of many probabilities, the inversion of a large covariance matrix, and the computation of its determinant, are all potential causes for overflow. Thus, we would like to find a numerically robust way of performing each of these.\n",
    "\n",
    "* Implement a numerically stable version of the function `logp`\n",
    "* Evaluate it on the same datasets and parameters as the function `logp`"
   ]
  },
  {
   "cell_type": "code",
   "execution_count": 18,
   "metadata": {
    "deletable": false,
    "nbgrader": {
     "checksum": "3f88d5abdfac12cf69c160e1a404826d",
     "grade": false,
     "grade_id": "cell-a020bd733a8339e3",
     "locked": false,
     "schema_version": 1,
     "solution": true
    }
   },
   "outputs": [],
   "source": [
    "def logp_robust(X,m,S):\n",
    "    # >>>>> YOUR CODE HERE\n",
    "    \n",
    "    # Find the number of dimensions from the data vector\n",
    "    d = X.shape[1]\n",
    "    \n",
    "    # Invert the covariance matrix\n",
    "    # Inverse matrix property\n",
    "    # A**-1 * A = A * A**-1 = I\n",
    "    Sinv = np.linalg.solve(S, np.identity(S.shape[0]))\n",
    "    \n",
    "    # Compute the sign and (natural) logarithm of the determinant of an array.\n",
    "    (sign, logdet) = np.linalg.slogdet(S)\n",
    "    logdet = 0 if sign == 0 else np.log(sign) + logdet \n",
    "    \n",
    "    # Compute the quadratic terms for all data points\n",
    "    Q = -0.5*(numpy.dot(X-m,Sinv)*(X-m)).sum(axis=1)\n",
    "    \n",
    "    P = np.log(1) + Q - (0.5 * d * np.log(2*np.pi) + 0.5 * logdet)\n",
    "    return P.sum()\n",
    "    \n",
    "    # <<<<< END YOUR CODE"
   ]
  },
  {
   "cell_type": "code",
   "execution_count": 19,
   "metadata": {
    "deletable": false,
    "editable": false,
    "nbgrader": {
     "checksum": "0b6c435822e723775df03c3ffa3f9063",
     "grade": true,
     "grade_id": "cell-4f1273a1bd8fc128",
     "locked": true,
     "points": 30,
     "schema_version": 1,
     "solution": false
    }
   },
   "outputs": [
    {
     "name": "stdout",
     "output_type": "stream",
     "text": [
      "   -13.0068\n",
      " -1947.9710\n",
      "-218646.1739\n"
     ]
    }
   ],
   "source": [
    "# Verify your function\n",
    "print('%11.4f'%logp_robust(utils.X1,utils.m1,utils.S1))\n",
    "print('%11.4f'%logp_robust(utils.X2,utils.m2,utils.S2))\n",
    "print('%11.4f'%logp_robust(utils.X3,utils.m3,utils.S3))"
   ]
  }
 ],
 "metadata": {
  "kernelspec": {
   "display_name": "Python 3",
   "language": "python",
   "name": "python3"
  },
  "language_info": {
   "codemirror_mode": {
    "name": "ipython",
    "version": 3
   },
   "file_extension": ".py",
   "mimetype": "text/x-python",
   "name": "python",
   "nbconvert_exporter": "python",
   "pygments_lexer": "ipython3",
   "version": "3.7.0"
  }
 },
 "nbformat": 4,
 "nbformat_minor": 2
}
